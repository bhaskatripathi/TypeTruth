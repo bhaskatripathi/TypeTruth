{
  "nbformat": 4,
  "nbformat_minor": 0,
  "metadata": {
    "colab": {
      "provenance": []
    },
    "kernelspec": {
      "name": "python3",
      "display_name": "Python 3"
    },
    "language_info": {
      "name": "python"
    }
  },
  "cells": [
    {
      "cell_type": "code",
      "source": [
        "!pip install TypeTruth\n"
      ],
      "metadata": {
        "id": "bsji_j18F1gI"
      },
      "execution_count": null,
      "outputs": []
    },
    {
      "cell_type": "code",
      "execution_count": null,
      "metadata": {
        "id": "ySLoWQJSFoVS"
      },
      "outputs": [],
      "source": [
        "from TypeTruth import AIDetector, plot_stacked_bar_chart, plot_heatmap\n",
        "\n",
        "paragraph = \"\"\"Here's a use case that combines Elasticsearch with Apache Beam for near real-time indexing. Elasticsearch is a distributed, open-source search and analytics engine for all types of data, including textual, numerical, geospatial, structured, and unstructured. Elasticsearch is built on Apache Lucene and was first released in 2010 by Elasticsearch (now known as Elastic). Elasticsearch is written in Java and released as open source under the terms of the Apache License. It's the most popular enterprise search engine.\n",
        "Apache Beam is an open-source, unified model for defining both batch and streaming data-parallel processing pipelines.\n",
        "Using one of the open source Beam SDKs, you build a program that defines the pipeline. The pipeline is then executed by one of Beam’s supported distributed processing back-ends, which include Apache Flink, Apache Samza, Apache Spark, and Google Cloud Dataflow.\"\"\"\n",
        "\n",
        "detector = AIDetector()\n",
        "\n",
        "# Detect AI content at the paragraph level\n",
        "paragraph_df = detector.detect(paragraph, split_type='paragraph')\n",
        "\n",
        "# Detect AI content at the sentence level\n",
        "sentence_df = detector.detect(paragraph, split_type='sentence')\n",
        "\n",
        "# Plot the stacked bar chart for paragraph level data\n",
        "plot_stacked_bar_chart(paragraph_df)\n",
        "\n",
        "# Plot the heatmap for sentence level data\n",
        "plot_heatmap(sentence_df)\n"
      ]
    }
  ]
}